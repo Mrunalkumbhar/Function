{
 "cells": [
  {
   "cell_type": "markdown",
   "metadata": {},
   "source": [
    "## Built-in user defined functions"
   ]
  },
  {
   "cell_type": "code",
   "execution_count": 2,
   "metadata": {},
   "outputs": [
    {
     "name": "stdout",
     "output_type": "stream",
     "text": [
      "hello, welcome\n"
     ]
    }
   ],
   "source": [
    "print(\"hello, welcome\")"
   ]
  },
  {
   "cell_type": "code",
   "execution_count": 4,
   "metadata": {},
   "outputs": [],
   "source": [
    "lst=[4,8,5,4,89,74,54,57,15,4]"
   ]
  },
  {
   "cell_type": "code",
   "execution_count": 5,
   "metadata": {
    "scrolled": true
   },
   "outputs": [
    {
     "data": {
      "text/plain": [
       "range(0, 30)"
      ]
     },
     "execution_count": 5,
     "metadata": {},
     "output_type": "execute_result"
    }
   ],
   "source": [
    "len(lst),\n",
    "range(30)"
   ]
  },
  {
   "cell_type": "code",
   "execution_count": null,
   "metadata": {},
   "outputs": [],
   "source": [
    "----\n",
    "----\n",
    "---\n",
    "----\n",
    "for \n",
    "   xyz \n",
    "   abc\n",
    "   pqr\n",
    "----\n",
    "----\n",
    "----\n",
    "-----"
   ]
  },
  {
   "cell_type": "code",
   "execution_count": null,
   "metadata": {},
   "outputs": [],
   "source": [
    "def f1:\n",
    "    xyz \n",
    "    abcxxxxxx\n",
    "    pqr\n",
    "----\n",
    "----\n",
    "f1\n",
    "---\n",
    "----\n",
    "f1\n",
    "----\n",
    "----\n",
    "f1\n",
    "----\n",
    "-----"
   ]
  },
  {
   "cell_type": "code",
   "execution_count": 6,
   "metadata": {},
   "outputs": [],
   "source": [
    "#simple function defination\n",
    "def greet_user():\n",
    "    print(\"Welcome to XYZ bank\")"
   ]
  },
  {
   "cell_type": "code",
   "execution_count": 7,
   "metadata": {},
   "outputs": [
    {
     "name": "stdout",
     "output_type": "stream",
     "text": [
      "Welcome to XYZ bank\n",
      "end of code\n"
     ]
    }
   ],
   "source": [
    "#function calling\n",
    "greet_user()\n",
    "print(\"end of code\")"
   ]
  },
  {
   "cell_type": "code",
   "execution_count": 8,
   "metadata": {},
   "outputs": [],
   "source": [
    "def greet_user():\n",
    "    print(\"Welcome Anuja to XYZ bank\")"
   ]
  },
  {
   "cell_type": "code",
   "execution_count": 9,
   "metadata": {
    "scrolled": true
   },
   "outputs": [
    {
     "name": "stdout",
     "output_type": "stream",
     "text": [
      "Welcome Anuja to XYZ bank\n"
     ]
    }
   ],
   "source": [
    "greet_user()"
   ]
  },
  {
   "cell_type": "code",
   "execution_count": 10,
   "metadata": {},
   "outputs": [
    {
     "name": "stdout",
     "output_type": "stream",
     "text": [
      "Welcome Anuja to XYZ bank\n"
     ]
    }
   ],
   "source": [
    "greet_user()"
   ]
  },
  {
   "cell_type": "code",
   "execution_count": 11,
   "metadata": {},
   "outputs": [],
   "source": [
    "#function with a parameter\n",
    "def greet_user(name):\n",
    "    print(\"Welcome \",name,\" to XYZ bank\")"
   ]
  },
  {
   "cell_type": "code",
   "execution_count": 12,
   "metadata": {},
   "outputs": [
    {
     "name": "stdout",
     "output_type": "stream",
     "text": [
      "Welcome  ankita  to XYZ bank\n"
     ]
    }
   ],
   "source": [
    "greet_user(\"ankita\")"
   ]
  },
  {
   "cell_type": "code",
   "execution_count": 13,
   "metadata": {},
   "outputs": [
    {
     "name": "stdout",
     "output_type": "stream",
     "text": [
      "Welcome  tejas  to XYZ bank\n"
     ]
    }
   ],
   "source": [
    "fist_name='tejas'\n",
    "greet_user(fist_name)"
   ]
  },
  {
   "cell_type": "code",
   "execution_count": 14,
   "metadata": {},
   "outputs": [
    {
     "name": "stdout",
     "output_type": "stream",
     "text": [
      "Welcome  21342  to XYZ bank\n"
     ]
    }
   ],
   "source": [
    "greet_user(21342)\n",
    "#create a function to chk if parameter contains number and show appropriate msg accordingly\n"
   ]
  },
  {
   "cell_type": "code",
   "execution_count": 15,
   "metadata": {},
   "outputs": [],
   "source": [
    "#function with parameter\n",
    "def greet_user(name):\n",
    "    print(\"Welcome \",name,\" to ABC bank\")"
   ]
  },
  {
   "cell_type": "code",
   "execution_count": 16,
   "metadata": {},
   "outputs": [
    {
     "name": "stdout",
     "output_type": "stream",
     "text": [
      "Welcome  nilay  to ABC bank\n"
     ]
    }
   ],
   "source": [
    "greet_user(\"nilay\")"
   ]
  },
  {
   "cell_type": "code",
   "execution_count": 17,
   "metadata": {},
   "outputs": [],
   "source": [
    "def greet_user(name,bank_name):\n",
    "    print(\"Welcome \",name,\" to \",bank_name,\" bank\")"
   ]
  },
  {
   "cell_type": "code",
   "execution_count": 18,
   "metadata": {},
   "outputs": [
    {
     "name": "stdout",
     "output_type": "stream",
     "text": [
      "Welcome  nilay  to  icici  bank\n"
     ]
    }
   ],
   "source": [
    "greet_user(\"nilay\",\"icici\")"
   ]
  },
  {
   "cell_type": "code",
   "execution_count": 19,
   "metadata": {},
   "outputs": [
    {
     "name": "stdout",
     "output_type": "stream",
     "text": [
      "Welcome  amit  to  hdfc  bank\n"
     ]
    }
   ],
   "source": [
    "greet_user(\"amit\",\"hdfc\")"
   ]
  },
  {
   "cell_type": "code",
   "execution_count": 20,
   "metadata": {},
   "outputs": [],
   "source": [
    "#intro functio --->name,age\n",
    "# My name is nilay and i am 38 years old"
   ]
  },
  {
   "cell_type": "code",
   "execution_count": 21,
   "metadata": {},
   "outputs": [],
   "source": [
    "def intro(first_name,age):\n",
    "    print(\"my name is \",first_name,\"and age is \",age)"
   ]
  },
  {
   "cell_type": "code",
   "execution_count": 22,
   "metadata": {
    "scrolled": true
   },
   "outputs": [
    {
     "name": "stdout",
     "output_type": "stream",
     "text": [
      "my name is  NK and age is  26\n"
     ]
    }
   ],
   "source": [
    "intro(\"NK\",26)"
   ]
  },
  {
   "cell_type": "code",
   "execution_count": 23,
   "metadata": {},
   "outputs": [],
   "source": [
    "def add():\n",
    "    x=10\n",
    "    y=20\n",
    "    z=x+y\n",
    "    print(\"sum = \",z)"
   ]
  },
  {
   "cell_type": "code",
   "execution_count": 24,
   "metadata": {},
   "outputs": [
    {
     "name": "stdout",
     "output_type": "stream",
     "text": [
      "sum =  30\n"
     ]
    }
   ],
   "source": [
    "add()"
   ]
  },
  {
   "cell_type": "code",
   "execution_count": 25,
   "metadata": {},
   "outputs": [
    {
     "name": "stdout",
     "output_type": "stream",
     "text": [
      "sum =  30\n"
     ]
    }
   ],
   "source": [
    "add()"
   ]
  },
  {
   "cell_type": "code",
   "execution_count": 26,
   "metadata": {},
   "outputs": [],
   "source": [
    "def add(x,y):\n",
    "    z=x+y\n",
    "    print(\"sum = \",z)"
   ]
  },
  {
   "cell_type": "code",
   "execution_count": 27,
   "metadata": {},
   "outputs": [
    {
     "name": "stdout",
     "output_type": "stream",
     "text": [
      "sum =  112\n"
     ]
    }
   ],
   "source": [
    "add(45,67)"
   ]
  },
  {
   "cell_type": "code",
   "execution_count": 28,
   "metadata": {},
   "outputs": [
    {
     "name": "stdout",
     "output_type": "stream",
     "text": [
      "sum =  1020\n"
     ]
    }
   ],
   "source": [
    "add(345,675)"
   ]
  },
  {
   "cell_type": "code",
   "execution_count": 29,
   "metadata": {},
   "outputs": [
    {
     "name": "stdout",
     "output_type": "stream",
     "text": [
      "sum =  112.99000000000001\n"
     ]
    }
   ],
   "source": [
    "add(45.43,67.56)"
   ]
  },
  {
   "cell_type": "code",
   "execution_count": 30,
   "metadata": {},
   "outputs": [
    {
     "name": "stdout",
     "output_type": "stream",
     "text": [
      "sum =  (83+112j)\n"
     ]
    }
   ],
   "source": [
    "add(45j+6,67j+77)"
   ]
  },
  {
   "cell_type": "code",
   "execution_count": 31,
   "metadata": {},
   "outputs": [
    {
     "name": "stdout",
     "output_type": "stream",
     "text": [
      "sum =  nilaykarade\n"
     ]
    }
   ],
   "source": [
    "add(\"nilay\",'karade')"
   ]
  },
  {
   "cell_type": "code",
   "execution_count": 32,
   "metadata": {},
   "outputs": [],
   "source": [
    "def sub(x,y):\n",
    "    z=x-y\n",
    "    print(\"difference = \",z)"
   ]
  },
  {
   "cell_type": "code",
   "execution_count": 33,
   "metadata": {},
   "outputs": [],
   "source": [
    "def mul(x,y):\n",
    "    z=x*y\n",
    "    print(\"product = \",z)"
   ]
  },
  {
   "cell_type": "code",
   "execution_count": 34,
   "metadata": {},
   "outputs": [],
   "source": [
    "def div(x,y):\n",
    "    if y==0:\n",
    "        print(\"cannnot divid by zero\")\n",
    "    else:\n",
    "        z=x/y\n",
    "        print(\"division = \",z)"
   ]
  },
  {
   "cell_type": "code",
   "execution_count": 35,
   "metadata": {},
   "outputs": [
    {
     "name": "stdout",
     "output_type": "stream",
     "text": [
      "division =  5.0\n"
     ]
    }
   ],
   "source": [
    "\n",
    "div(10,2)"
   ]
  },
  {
   "cell_type": "code",
   "execution_count": 36,
   "metadata": {},
   "outputs": [],
   "source": [
    "#WRITE  a function to have 4 parameters, and calculate their average value"
   ]
  },
  {
   "cell_type": "code",
   "execution_count": 37,
   "metadata": {},
   "outputs": [],
   "source": [
    "def arithmetic_op(x,y):\n",
    "    add(x,y)\n",
    "    sub(x,y)\n",
    "    mul(x,y)\n",
    "    div(x,y)\n",
    "    "
   ]
  },
  {
   "cell_type": "code",
   "execution_count": 38,
   "metadata": {},
   "outputs": [
    {
     "name": "stdout",
     "output_type": "stream",
     "text": [
      "sum =  15\n",
      "difference =  5\n",
      "product =  50\n",
      "division =  2.0\n"
     ]
    }
   ],
   "source": [
    "arithmetic_op(10,5)"
   ]
  },
  {
   "cell_type": "code",
   "execution_count": null,
   "metadata": {},
   "outputs": [],
   "source": []
  },
  {
   "cell_type": "code",
   "execution_count": 39,
   "metadata": {},
   "outputs": [],
   "source": [
    "#return statement"
   ]
  },
  {
   "cell_type": "code",
   "execution_count": 41,
   "metadata": {},
   "outputs": [
    {
     "data": {
      "text/plain": [
       "5"
      ]
     },
     "execution_count": 41,
     "metadata": {},
     "output_type": "execute_result"
    }
   ],
   "source": [
    "lst=[1,2,3,4,5]\n",
    "list_length=len(lst)\n",
    "list_length"
   ]
  },
  {
   "cell_type": "code",
   "execution_count": 42,
   "metadata": {},
   "outputs": [
    {
     "data": {
      "text/plain": [
       "5"
      ]
     },
     "execution_count": 42,
     "metadata": {},
     "output_type": "execute_result"
    }
   ],
   "source": [
    "len(lst)"
   ]
  },
  {
   "cell_type": "code",
   "execution_count": 43,
   "metadata": {},
   "outputs": [],
   "source": [
    "def add_numbers(x,y):\n",
    "    z=x+y\n",
    "    return z "
   ]
  },
  {
   "cell_type": "code",
   "execution_count": 44,
   "metadata": {},
   "outputs": [
    {
     "data": {
      "text/plain": [
       "131"
      ]
     },
     "execution_count": 44,
     "metadata": {},
     "output_type": "execute_result"
    }
   ],
   "source": [
    "result=add_numbers(109,22)\n",
    "result"
   ]
  },
  {
   "cell_type": "code",
   "execution_count": 45,
   "metadata": {},
   "outputs": [
    {
     "data": {
      "text/plain": [
       "1310"
      ]
     },
     "execution_count": 45,
     "metadata": {},
     "output_type": "execute_result"
    }
   ],
   "source": [
    "result*10"
   ]
  },
  {
   "cell_type": "code",
   "execution_count": 46,
   "metadata": {},
   "outputs": [
    {
     "name": "stdout",
     "output_type": "stream",
     "text": [
      "160\n"
     ]
    }
   ],
   "source": [
    "print(add_numbers(140,20))"
   ]
  },
  {
   "cell_type": "code",
   "execution_count": 47,
   "metadata": {},
   "outputs": [],
   "source": [
    "def add_numbers(x,y):\n",
    "    return x+y"
   ]
  },
  {
   "cell_type": "code",
   "execution_count": 48,
   "metadata": {},
   "outputs": [
    {
     "data": {
      "text/plain": [
       "121"
      ]
     },
     "execution_count": 48,
     "metadata": {},
     "output_type": "execute_result"
    }
   ],
   "source": [
    "x=add_numbers(45,76)\n",
    "x"
   ]
  },
  {
   "cell_type": "code",
   "execution_count": 49,
   "metadata": {},
   "outputs": [
    {
     "name": "stdout",
     "output_type": "stream",
     "text": [
      "sum =  154\n"
     ]
    }
   ],
   "source": [
    "print(\"sum = \",add_numbers(89,65))"
   ]
  },
  {
   "cell_type": "code",
   "execution_count": 50,
   "metadata": {},
   "outputs": [],
   "source": [
    "def arithmentic_operation(x,y):\n",
    "    a=x+y\n",
    "    s=x-y\n",
    "    m=x*y\n",
    "    d=x/y\n",
    "    return a,s,m,d"
   ]
  },
  {
   "cell_type": "code",
   "execution_count": 51,
   "metadata": {},
   "outputs": [
    {
     "data": {
      "text/plain": [
       "(18, 6, 72, 2.0)"
      ]
     },
     "execution_count": 51,
     "metadata": {},
     "output_type": "execute_result"
    }
   ],
   "source": [
    "x,y,z,p=arithmentic_operation(12,6)\n",
    "x,y,z,p"
   ]
  },
  {
   "cell_type": "code",
   "execution_count": 52,
   "metadata": {},
   "outputs": [
    {
     "data": {
      "text/plain": [
       "(18, 6, 72, 2.0)"
      ]
     },
     "execution_count": 52,
     "metadata": {},
     "output_type": "execute_result"
    }
   ],
   "source": [
    "arithmentic_operation(12,6)"
   ]
  },
  {
   "cell_type": "code",
   "execution_count": 53,
   "metadata": {},
   "outputs": [
    {
     "name": "stdout",
     "output_type": "stream",
     "text": [
      "results of a.o. => (18, 6, 72, 2.0)\n"
     ]
    }
   ],
   "source": [
    "print(\"results of a.o. =>\",arithmentic_operation(12,6))"
   ]
  },
  {
   "cell_type": "code",
   "execution_count": 54,
   "metadata": {},
   "outputs": [],
   "source": [
    "def arithmentic_operation(x,y):\n",
    "    lst=[]\n",
    "    a=x+y\n",
    "    s=x-y\n",
    "    m=x*y\n",
    "    d=x/y\n",
    "    lst.extend([a,s,m,d]) #lst[100,23,212,2]\n",
    "    return lst"
   ]
  },
  {
   "cell_type": "code",
   "execution_count": 21,
   "metadata": {},
   "outputs": [
    {
     "data": {
      "text/plain": [
       "[112, -22, 3015, 0.6716417910447762]"
      ]
     },
     "execution_count": 21,
     "metadata": {},
     "output_type": "execute_result"
    }
   ],
   "source": [
    "x1=arithmentic_operation(45,67)\n",
    "x1"
   ]
  },
  {
   "cell_type": "code",
   "execution_count": null,
   "metadata": {},
   "outputs": [],
   "source": [
    "#function for even or odd --- arg: num\n",
    "#function to calculate SI--- arg:p,n,r ---- si=(p*n*r)/100, use return statement\n",
    "#function to calculate area of a circle"
   ]
  },
  {
   "cell_type": "code",
   "execution_count": 11,
   "metadata": {},
   "outputs": [],
   "source": [
    "def find_even_odd(x):\n",
    "    if x%2==0:\n",
    "        print(x,\" is even\")\n",
    "    else:\n",
    "        print(x,\" is odd\")"
   ]
  },
  {
   "cell_type": "code",
   "execution_count": 12,
   "metadata": {},
   "outputs": [
    {
     "name": "stdout",
     "output_type": "stream",
     "text": [
      "56  is even\n"
     ]
    }
   ],
   "source": [
    "find_even_odd(56)"
   ]
  },
  {
   "cell_type": "code",
   "execution_count": 13,
   "metadata": {},
   "outputs": [
    {
     "name": "stdout",
     "output_type": "stream",
     "text": [
      "77  is odd\n"
     ]
    }
   ],
   "source": [
    "find_even_odd(77)"
   ]
  },
  {
   "cell_type": "code",
   "execution_count": 28,
   "metadata": {},
   "outputs": [],
   "source": [
    "def calculate_si(x,y,z):\n",
    "    si=(x*y*z)/100\n",
    "    return si"
   ]
  },
  {
   "cell_type": "code",
   "execution_count": 29,
   "metadata": {},
   "outputs": [
    {
     "name": "stdout",
     "output_type": "stream",
     "text": [
      "enter principal amount100000\n",
      "enter duaration in years6\n",
      "enter rate of intrest8\n"
     ]
    }
   ],
   "source": [
    "p=int(input(\"enter principal amount \"))\n",
    "n=int(input(\"enter duaration in years \"))\n",
    "r=int(input(\"enter rate of intrest \"))"
   ]
  },
  {
   "cell_type": "code",
   "execution_count": 30,
   "metadata": {
    "scrolled": true
   },
   "outputs": [
    {
     "data": {
      "text/plain": [
       "48000.0"
      ]
     },
     "execution_count": 30,
     "metadata": {},
     "output_type": "execute_result"
    }
   ],
   "source": [
    "calculate_si(p,n,r)"
   ]
  },
  {
   "cell_type": "code",
   "execution_count": 55,
   "metadata": {},
   "outputs": [],
   "source": [
    "def get_upper_case(word):\n",
    "    word=word.upper()\n",
    "    return word"
   ]
  },
  {
   "cell_type": "code",
   "execution_count": 56,
   "metadata": {},
   "outputs": [
    {
     "data": {
      "text/plain": [
       "'PUNE'"
      ]
     },
     "execution_count": 56,
     "metadata": {},
     "output_type": "execute_result"
    }
   ],
   "source": [
    "get_upper_case('pune')"
   ]
  },
  {
   "cell_type": "code",
   "execution_count": 36,
   "metadata": {},
   "outputs": [],
   "source": [
    "city_name='pune'"
   ]
  },
  {
   "cell_type": "code",
   "execution_count": 37,
   "metadata": {},
   "outputs": [
    {
     "data": {
      "text/plain": [
       "'PUNE'"
      ]
     },
     "execution_count": 37,
     "metadata": {},
     "output_type": "execute_result"
    }
   ],
   "source": [
    "get_upper_case(city_name)"
   ]
  },
  {
   "cell_type": "code",
   "execution_count": 38,
   "metadata": {},
   "outputs": [
    {
     "data": {
      "text/plain": [
       "'PUNE'"
      ]
     },
     "execution_count": 38,
     "metadata": {},
     "output_type": "execute_result"
    }
   ],
   "source": [
    "city_name.upper()"
   ]
  },
  {
   "cell_type": "code",
   "execution_count": 39,
   "metadata": {},
   "outputs": [],
   "source": [
    "def get_upper_case(lst):\n",
    "    for city in lst:#city ='mumbai'\n",
    "        print(city.upper())#PUNE MUMBAI.....\n",
    "    "
   ]
  },
  {
   "cell_type": "code",
   "execution_count": 40,
   "metadata": {},
   "outputs": [],
   "source": [
    "city=['pune','mumbai','nagpur','aurangabad']"
   ]
  },
  {
   "cell_type": "code",
   "execution_count": 41,
   "metadata": {},
   "outputs": [
    {
     "name": "stdout",
     "output_type": "stream",
     "text": [
      "PUNE\n",
      "MUMBAI\n",
      "NAGPUR\n",
      "AURANGABAD\n"
     ]
    }
   ],
   "source": [
    "get_upper_case(city)"
   ]
  },
  {
   "cell_type": "code",
   "execution_count": 45,
   "metadata": {},
   "outputs": [],
   "source": [
    "#nested functions\n",
    "def a():\n",
    "    print(\"inside function a\")\n",
    "    \n",
    "def b():\n",
    "    a()\n",
    "    print(\"inside function b\")"
   ]
  },
  {
   "cell_type": "code",
   "execution_count": 46,
   "metadata": {},
   "outputs": [
    {
     "name": "stdout",
     "output_type": "stream",
     "text": [
      "inside function a\n"
     ]
    }
   ],
   "source": [
    "a()"
   ]
  },
  {
   "cell_type": "code",
   "execution_count": 47,
   "metadata": {},
   "outputs": [
    {
     "name": "stdout",
     "output_type": "stream",
     "text": [
      "inside function a\n",
      "inside function b\n"
     ]
    }
   ],
   "source": [
    "b()"
   ]
  },
  {
   "cell_type": "code",
   "execution_count": null,
   "metadata": {},
   "outputs": [],
   "source": [
    "#function to calculate area of a circle--->r\n",
    "#function to calculate area of a circles--->list of multiple radius"
   ]
  },
  {
   "cell_type": "code",
   "execution_count": 15,
   "metadata": {},
   "outputs": [],
   "source": [
    "def find_circle_area(r):\n",
    "    area=3.14*r*r\n",
    "    print(\"area = \",area)"
   ]
  },
  {
   "cell_type": "code",
   "execution_count": 16,
   "metadata": {},
   "outputs": [
    {
     "name": "stdout",
     "output_type": "stream",
     "text": [
      "area =  4069.44\n"
     ]
    }
   ],
   "source": [
    "find_circle_area(36)"
   ]
  },
  {
   "cell_type": "code",
   "execution_count": 22,
   "metadata": {},
   "outputs": [
    {
     "name": "stdout",
     "output_type": "stream",
     "text": [
      "[12.56, 28.26, 50.24, 78.5]\n"
     ]
    }
   ],
   "source": [
    "def circles_area(lst_radius):#[2,3,4,5] \n",
    "    lst_area=[]\n",
    "    #for i in range(0, len(lst_rad)):0,1,2,3--->lst_rad[i]\n",
    "    for radius in lst_radius:  #[2,3,4,5] \n",
    "        area=3.14 * radius**2\n",
    "        lst_area.append(area)#lst_area [100,200,300]\n",
    "    print(lst_area)\n",
    "        \n",
    "lst=[2,3,4,5]     \n",
    "circles_area(lst)\n"
   ]
  },
  {
   "cell_type": "code",
   "execution_count": null,
   "metadata": {},
   "outputs": [],
   "source": [
    "#calculate S.I. for 3 differet set of p,n,r\n",
    "#calculate bill amount calculation for 3 differet set of unit price & quantity"
   ]
  },
  {
   "cell_type": "code",
   "execution_count": 19,
   "metadata": {},
   "outputs": [
    {
     "name": "stdout",
     "output_type": "stream",
     "text": [
      "inside demo function - y1 =  100\n",
      "inside demo function - x =  1000\n",
      "outside demo function - x =  1000\n"
     ]
    },
    {
     "ename": "NameError",
     "evalue": "name 'y1' is not defined",
     "output_type": "error",
     "traceback": [
      "\u001b[1;31m---------------------------------------------------------------------------\u001b[0m",
      "\u001b[1;31mNameError\u001b[0m                                 Traceback (most recent call last)",
      "\u001b[1;32m<ipython-input-19-87591db35fa2>\u001b[0m in \u001b[0;36m<module>\u001b[1;34m\u001b[0m\n\u001b[0;32m      8\u001b[0m \u001b[0mdemo\u001b[0m\u001b[1;33m(\u001b[0m\u001b[1;33m)\u001b[0m\u001b[1;33m\u001b[0m\u001b[1;33m\u001b[0m\u001b[0m\n\u001b[0;32m      9\u001b[0m \u001b[0mprint\u001b[0m\u001b[1;33m(\u001b[0m\u001b[1;34m\"outside demo function - x = \"\u001b[0m\u001b[1;33m,\u001b[0m\u001b[0mx\u001b[0m\u001b[1;33m)\u001b[0m\u001b[1;33m\u001b[0m\u001b[1;33m\u001b[0m\u001b[0m\n\u001b[1;32m---> 10\u001b[1;33m \u001b[0mprint\u001b[0m\u001b[1;33m(\u001b[0m\u001b[1;34m\"outside demo function - y1 = \"\u001b[0m\u001b[1;33m,\u001b[0m\u001b[0my1\u001b[0m\u001b[1;33m)\u001b[0m\u001b[1;33m\u001b[0m\u001b[1;33m\u001b[0m\u001b[0m\n\u001b[0m",
      "\u001b[1;31mNameError\u001b[0m: name 'y1' is not defined"
     ]
    }
   ],
   "source": [
    "#scope of the variable\n",
    "x=1000 #global variable\n",
    "def demo():\n",
    "    y1=100   #local variable\n",
    "    print(\"inside demo function - y1 = \",y1)\n",
    "    print(\"inside demo function - x = \",x)\n",
    "    \n",
    "demo()\n",
    "print(\"outside demo function - x = \",x)\n",
    "print(\"outside demo function - y1 = \",y1)"
   ]
  },
  {
   "cell_type": "code",
   "execution_count": 10,
   "metadata": {},
   "outputs": [
    {
     "name": "stdout",
     "output_type": "stream",
     "text": [
      "7  is not found\n",
      "7  is not found\n",
      "7  is found\n",
      "eoc\n"
     ]
    }
   ],
   "source": [
    "x=7\n",
    "lst=[4,2,7,1,9,5,3]\n",
    "\n",
    "for i in lst:\n",
    "    if x==i:\n",
    "        print(x,\" is found\")\n",
    "        break\n",
    "    else:\n",
    "        print(x,\" is not found\")\n",
    "print(\"eoc\")"
   ]
  },
  {
   "cell_type": "code",
   "execution_count": 13,
   "metadata": {},
   "outputs": [
    {
     "name": "stdout",
     "output_type": "stream",
     "text": [
      "45  is present\n",
      "end of code\n"
     ]
    }
   ],
   "source": [
    "#write a function that accepts number to be searched and list of numbers\n",
    "#ver 3\n",
    "x=45\n",
    "found=False\n",
    "lst=[45, 567, 23, 12, 6, 8, 9, 34, 43]\n",
    "for i in lst:\n",
    "    if x==i:\n",
    "        found=True\n",
    "        break        \n",
    "\n",
    "if found==True:\n",
    "    print(x,\" is present\")\n",
    "else:\n",
    "    print(x,\" is not present\")\n",
    "print(\"end of code\")"
   ]
  },
  {
   "cell_type": "code",
   "execution_count": 16,
   "metadata": {},
   "outputs": [],
   "source": [
    "def find_val(x,lst):\n",
    "    found=False    \n",
    "    for i in lst:\n",
    "        if x==i:\n",
    "            found=True\n",
    "            break        \n",
    "    msg=\"\"\n",
    "    if found==True:\n",
    "        msg=f\"{x} is present\"\n",
    "    else:\n",
    "        msg=f\"{x} is not present\"\n",
    "    \n",
    "    return msg"
   ]
  },
  {
   "cell_type": "code",
   "execution_count": 17,
   "metadata": {},
   "outputs": [
    {
     "name": "stdout",
     "output_type": "stream",
     "text": [
      "Enter the number to be searched in the list22\n"
     ]
    },
    {
     "data": {
      "text/plain": [
       "'22 is not present'"
      ]
     },
     "execution_count": 17,
     "metadata": {},
     "output_type": "execute_result"
    }
   ],
   "source": [
    "l1=[45, 567, 23, 12, 6, 8, 9, 34, 43]\n",
    "num=int(input(\"Enter the number to be searched in the list\"))\n",
    "find_val(num,l1)"
   ]
  },
  {
   "cell_type": "code",
   "execution_count": null,
   "metadata": {},
   "outputs": [],
   "source": [
    "#function to merge two list"
   ]
  },
  {
   "cell_type": "code",
   "execution_count": 55,
   "metadata": {},
   "outputs": [],
   "source": [
    "l1=[54,67,78,454,23,23]\n",
    "l2=[14,73,178,54,323,233]\n"
   ]
  },
  {
   "cell_type": "code",
   "execution_count": 58,
   "metadata": {},
   "outputs": [],
   "source": [
    "def merge_lists(x,y):\n",
    "    \"\"\"z=[]\n",
    "    z.extend(x)\n",
    "    z.extend(y)\"\"\"\n",
    "    z=x+y\n",
    "    return z\n",
    "    "
   ]
  },
  {
   "cell_type": "code",
   "execution_count": 59,
   "metadata": {},
   "outputs": [
    {
     "data": {
      "text/plain": [
       "[54, 67, 78, 454, 23, 23, 14, 73, 178, 54, 323, 233]"
      ]
     },
     "execution_count": 59,
     "metadata": {},
     "output_type": "execute_result"
    }
   ],
   "source": [
    "l3=merge_lists(l1,l2)\n",
    "l3"
   ]
  },
  {
   "cell_type": "code",
   "execution_count": null,
   "metadata": {},
   "outputs": [],
   "source": [
    "#function i/p->list of numbers ---> 2 list (even, odd)"
   ]
  },
  {
   "cell_type": "code",
   "execution_count": 60,
   "metadata": {},
   "outputs": [],
   "source": [
    "def even_odd_list_splitting(lst):\n",
    "    even_list=[]\n",
    "    odd_list=[]\n",
    "    for i in lst:\n",
    "        if i%2==0:\n",
    "            even_list.append(i)\n",
    "        else:\n",
    "            odd_list.append(i)\n",
    "    return even_list, odd_list\n",
    "    "
   ]
  },
  {
   "cell_type": "code",
   "execution_count": 61,
   "metadata": {},
   "outputs": [
    {
     "data": {
      "text/plain": [
       "([54, 78, 454, 14, 178, 54], [67, 23, 23, 73, 323, 233])"
      ]
     },
     "execution_count": 61,
     "metadata": {},
     "output_type": "execute_result"
    }
   ],
   "source": [
    "even_odd_list_splitting(l3)"
   ]
  }
 ],
 "metadata": {
  "kernelspec": {
   "display_name": "Python 3",
   "language": "python",
   "name": "python3"
  },
  "language_info": {
   "codemirror_mode": {
    "name": "ipython",
    "version": 3
   },
   "file_extension": ".py",
   "mimetype": "text/x-python",
   "name": "python",
   "nbconvert_exporter": "python",
   "pygments_lexer": "ipython3",
   "version": "3.8.3"
  }
 },
 "nbformat": 4,
 "nbformat_minor": 4
}
